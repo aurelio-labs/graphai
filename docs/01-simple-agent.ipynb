{
 "cells": [
  {
   "cell_type": "code",
   "execution_count": 1,
   "metadata": {},
   "outputs": [],
   "source": [
    "import os\n",
    "\n",
    "os.environ[\"OPENAI_API_KEY\"] = \"\""
   ]
  },
  {
   "cell_type": "code",
   "execution_count": null,
   "metadata": {},
   "outputs": [],
   "source": [
    "from semantic_router.llms import OpenAILLM\n",
    "\n",
    "llm = OpenAILLM(name=\"gpt-4o-2024-08-06\")"
   ]
  },
  {
   "cell_type": "code",
   "execution_count": 3,
   "metadata": {},
   "outputs": [],
   "source": [
    "from pydantic import BaseModel, Field\n",
    "\n",
    "\n",
    "class Search(BaseModel):\n",
    "    query: str = Field(description=\"Search query for internet information\")\n",
    "\n",
    "class Memory(BaseModel):\n",
    "    query: str = Field(description=\"Self-directed query to search information from your long term memory\")"
   ]
  },
  {
   "cell_type": "code",
   "execution_count": 4,
   "metadata": {},
   "outputs": [],
   "source": [
    "import ast\n",
    "import random\n",
    "import openai\n",
    "from graphai import router, node\n",
    "from semantic_router.schema import Message\n",
    "\n",
    "\n",
    "@node(start=True)\n",
    "def node_start(input: dict):\n",
    "    \"\"\"Descriptive string for the node.\"\"\"\n",
    "    print(\"node_a\")\n",
    "    return {\"input\": input}\n",
    "\n",
    "\n",
    "@router\n",
    "def node_router(input: dict):\n",
    "    print(\"node_router\")\n",
    "    query = input[\"query\"]\n",
    "    messages = [\n",
    "        Message(\n",
    "            role=\"system\",\n",
    "            content=\"\"\"You are a helpful assistant. Select the best route to answer the user query. ONLY choose one function.\"\"\",\n",
    "        ),\n",
    "        Message(role=\"user\", content=query),\n",
    "    ]\n",
    "    response = llm(\n",
    "        messages=messages,\n",
    "        function_schemas=[\n",
    "            openai.pydantic_function_tool(Search),\n",
    "            openai.pydantic_function_tool(Memory),\n",
    "        ],\n",
    "    )\n",
    "    choice = ast.literal_eval(response)[0]\n",
    "    print(\"choice\", choice)\n",
    "    return {\n",
    "        \"choice\": choice[\"function_name\"].lower(),\n",
    "        \"input\": {**input, **choice[\"arguments\"]},\n",
    "    }\n",
    "\n",
    "\n",
    "@node\n",
    "def memory(input: dict):\n",
    "    print(\"memory\")\n",
    "    query = input[\"query\"]\n",
    "    print(\"memory query\", query)\n",
    "    return {\"input\": {\"text\": \"The user is in Bali right now.\", **input}}\n",
    "\n",
    "\n",
    "@node\n",
    "def search(input: dict):\n",
    "    print(\"search\")\n",
    "    query = input[\"query\"]\n",
    "    print(\"search query\", query)\n",
    "    return {\n",
    "        \"input\": {\n",
    "            \"text\": \"The most famous photo spot in Bali is the Uluwatu Temple.\",\n",
    "            **input,\n",
    "        }\n",
    "    }\n",
    "\n",
    "\n",
    "@node\n",
    "def llm_node(input: dict):\n",
    "    print(\"llm_node\")\n",
    "    chat_history = [\n",
    "        Message(role=message[\"role\"], content=message[\"content\"])\n",
    "        for message in input[\"chat_history\"]\n",
    "    ]\n",
    "\n",
    "    messages = [\n",
    "        Message(role=\"system\", content=\"\"\"You are a helpful assistant.\"\"\"),\n",
    "        *chat_history,\n",
    "        Message(\n",
    "            role=\"user\",\n",
    "            content=(\n",
    "                f\"Response to the following query from the user: {input['query']}\\n\"\n",
    "                \"Here is additional context. You can use it to answer the user query. \"\n",
    "                f\"But do not directly reference it: {input.get('text', '')}.\"\n",
    "            ),\n",
    "        ),\n",
    "    ]\n",
    "    response = llm(messages=messages)\n",
    "    return {\"output\": response}\n",
    "\n",
    "\n",
    "@node(end=True)\n",
    "def node_end(input: dict):\n",
    "    \"\"\"Descriptive string for the node.\"\"\"\n",
    "    print(\"node_end\")\n",
    "    return {\"output\": input[\"output\"]}"
   ]
  },
  {
   "cell_type": "code",
   "execution_count": 5,
   "metadata": {},
   "outputs": [],
   "source": [
    "from graphai import Graph\n",
    "\n",
    "graph = Graph()"
   ]
  },
  {
   "cell_type": "code",
   "execution_count": 6,
   "metadata": {},
   "outputs": [
    {
     "data": {
      "image/png": "[encoded data removed]",
      "text/plain": [
       "<Figure size 800x600 with 1 Axes>"
      ]
     },
     "metadata": {},
     "output_type": "display_data"
    }
   ],
   "source": [
    "for node_fn in [node_start, memory, search, llm_node, node_end]:\n",
    "    graph.add_node(node_fn)\n",
    "\n",
    "# add the router\n",
    "graph.add_router(\n",
    "    source=node_start,\n",
    "    router=node_router,\n",
    "    destinations=[memory, search]\n",
    ")\n",
    "\n",
    "# build the certain edges\n",
    "graph.add_edge(source=node_start, destination=node_router)\n",
    "graph.add_edge(source=memory, destination=llm_node)\n",
    "graph.add_edge(source=search, destination=llm_node)\n",
    "graph.add_edge(source=llm_node, destination=node_end)\n",
    "\n",
    "graph.visualize()"
   ]
  },
  {
   "cell_type": "code",
   "execution_count": 12,
   "metadata": {},
   "outputs": [],
   "source": [
    "chat_history = []"
   ]
  },
  {
   "cell_type": "code",
   "execution_count": 13,
   "metadata": {},
   "outputs": [],
   "source": [
    "def chat(query: str):\n",
    "    chat_history.append({\"role\": \"user\", \"content\": query})\n",
    "    response = graph.execute(input={\"input\": {\"query\": query, \"chat_history\": chat_history}})\n",
    "    chat_history.append({\"role\": \"assistant\", \"content\": response[\"output\"]})\n",
    "    return response[\"output\"]"
   ]
  },
  {
   "cell_type": "code",
   "execution_count": 14,
   "metadata": {},
   "outputs": [
    {
     "name": "stdout",
     "output_type": "stream",
     "text": [
      "node_a\n",
      "node_router\n",
      "choice {'function_name': 'Memory', 'arguments': {'query': 'user location'}}\n",
      "memory\n",
      "memory query user location\n",
      "llm_node\n"
     ]
    },
    {
     "data": {
      "text/plain": [
       "\"You're currently in Bali. How can I assist you further?\""
      ]
     },
     "execution_count": 14,
     "metadata": {},
     "output_type": "execute_result"
    }
   ],
   "source": [
    "chat(\"do you remember where I am?\")"
   ]
  },
  {
   "cell_type": "code",
   "execution_count": 15,
   "metadata": {},
   "outputs": [
    {
     "data": {
      "text/plain": [
       "[{'role': 'user', 'content': 'do you remember where I am?'},\n",
       " {'role': 'assistant',\n",
       "  'content': \"You're currently in Bali. How can I assist you further?\"}]"
      ]
     },
     "execution_count": 15,
     "metadata": {},
     "output_type": "execute_result"
    }
   ],
   "source": [
    "chat_history"
   ]
  },
  {
   "cell_type": "code",
   "execution_count": 16,
   "metadata": {},
   "outputs": [
    {
     "name": "stdout",
     "output_type": "stream",
     "text": [
      "node_a\n",
      "node_router\n",
      "choice {'function_name': 'Search', 'arguments': {'query': 'best temples to visit'}}\n",
      "search\n",
      "search query best temples to visit\n",
      "llm_node\n"
     ]
    },
    {
     "data": {
      "text/plain": [
       "\"One of the best temples to visit in Bali is the Uluwatu Temple. It's not only a significant cultural site but also offers stunning views, especially at sunset. The temple is perched on a cliff overlooking the ocean, making it a popular spot for photography. Additionally, you can experience traditional Kecak dance performances there in the evening.\""
      ]
     },
     "execution_count": 16,
     "metadata": {},
     "output_type": "execute_result"
    }
   ],
   "source": [
    "chat(\"That's correct. Can you find me a good temple to visit?\")"
   ]
  },
  {
   "cell_type": "code",
   "execution_count": 17,
   "metadata": {},
   "outputs": [
    {
     "data": {
      "text/plain": [
       "[{'role': 'user', 'content': 'do you remember where I am?'},\n",
       " {'role': 'assistant',\n",
       "  'content': \"You're currently in Bali. How can I assist you further?\"},\n",
       " {'role': 'user',\n",
       "  'content': \"That's correct. Can you find me a good temple to visit?\"},\n",
       " {'role': 'assistant',\n",
       "  'content': \"One of the best temples to visit in Bali is the Uluwatu Temple. It's not only a significant cultural site but also offers stunning views, especially at sunset. The temple is perched on a cliff overlooking the ocean, making it a popular spot for photography. Additionally, you can experience traditional Kecak dance performances there in the evening.\"}]"
      ]
     },
     "execution_count": 17,
     "metadata": {},
     "output_type": "execute_result"
    }
   ],
   "source": [
    "chat_history"
   ]
  }
 ],
 "metadata": {
  "kernelspec": {
   "display_name": "graphai",
   "language": "python",
   "name": "python3"
  },
  "language_info": {
   "codemirror_mode": {
    "name": "ipython",
    "version": 3
   },
   "file_extension": ".py",
   "mimetype": "text/x-python",
   "name": "python",
   "nbconvert_exporter": "python",
   "pygments_lexer": "ipython3",
   "version": "3.12.4"
  }
 },
 "nbformat": 4,
 "nbformat_minor": 2
}
