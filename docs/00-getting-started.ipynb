{
 "cells": [
  {
   "cell_type": "code",
   "execution_count": 1,
   "metadata": {},
   "outputs": [],
   "source": [
    "import random\n",
    "from graphai import router, node\n",
    "\n",
    "@node(start=True)\n",
    "def node_a(param_a: str):\n",
    "    \"\"\"Descriptive string for the node.\n",
    "    \"\"\"\n",
    "    print(\"node_a\")\n",
    "    return {\"param_b\": \"Hello, World!\"}\n",
    "\n",
    "@node\n",
    "def node_b(param_b: str):\n",
    "    \"\"\"Descriptive string for the node.\n",
    "    \"\"\"\n",
    "    print(\"node_b\")\n",
    "    new_str = param_b*2\n",
    "    return {\"param_c\": new_str}\n",
    "\n",
    "@router\n",
    "def node_router(param_c: str):\n",
    "    # choose \"node_c\", \"node_d\" or \"node_e\" at random\n",
    "    print(\"node_router\")\n",
    "    return {\n",
    "        \"param\": \"ab | \",\n",
    "        \"choice\": random.choice([\"node_c\", \"node_d\", \"node_e\"])\n",
    "    }\n",
    "\n",
    "@node\n",
    "def node_c(param: str):\n",
    "    print(\"node_c\")\n",
    "    return {\"param\": param+\"c\"}\n",
    "\n",
    "@node\n",
    "def node_d(param: str):\n",
    "    print(\"node_d\")\n",
    "    return {\"param\": param+\"d\"}\n",
    "\n",
    "@node\n",
    "def node_e(param: str):\n",
    "    print(\"node_e\")\n",
    "    return {\"param\": param+\"e\"}\n",
    "\n",
    "@node(end=True)\n",
    "def node_end(param: str):\n",
    "    \"\"\"Descriptive string for the node.\n",
    "    \"\"\"\n",
    "    print(\"node_end\")\n",
    "    new_str = param*2\n",
    "    return {\"output\": new_str}"
   ]
  },
  {
   "cell_type": "code",
   "execution_count": 2,
   "metadata": {},
   "outputs": [],
   "source": [
    "from graphai import Graph\n",
    "\n",
    "graph = Graph()"
   ]
  },
  {
   "cell_type": "code",
   "execution_count": 3,
   "metadata": {},
   "outputs": [],
   "source": [
    "for node_fn in [node_a, node_b, node_c, node_d, node_e, node_end]:\n",
    "    graph.add_node(node_fn)\n",
    "\n",
    "# add the router\n",
    "graph.add_router(\n",
    "    source=node_b,\n",
    "    router=node_router,\n",
    "    destinations=[node_c, node_d, node_e]\n",
    ")\n",
    "\n",
    "# build the certain edges\n",
    "graph.add_edge(source=node_a, destination=node_b)\n",
    "# TODO it is kind of weird that I dn't explicitly define node_b to node_router edge\n",
    "graph.add_edge(source=node_c, destination=node_end)\n",
    "graph.add_edge(source=node_d, destination=node_end)\n",
    "graph.add_edge(source=node_e, destination=node_end)"
   ]
  },
  {
   "cell_type": "code",
   "execution_count": 4,
   "metadata": {},
   "outputs": [
    {
     "data": {
      "text/plain": [
       "(graphai.nodes.base._Node._node.<locals>.NodeClass,\n",
       " [graphai.nodes.base._Node._node.<locals>.NodeClass])"
      ]
     },
     "execution_count": 4,
     "metadata": {},
     "output_type": "execute_result"
    }
   ],
   "source": [
    "graph.start_node, graph.end_nodes"
   ]
  },
  {
   "cell_type": "code",
   "execution_count": 6,
   "metadata": {},
   "outputs": [
    {
     "name": "stdout",
     "output_type": "stream",
     "text": [
      "node_a\n",
      "node_b\n",
      "node_router\n",
      "node_e\n"
     ]
    },
    {
     "data": {
      "text/plain": [
       "{'param': 'ab | e'}"
      ]
     },
     "execution_count": 6,
     "metadata": {},
     "output_type": "execute_result"
    }
   ],
   "source": [
    "graph.execute(input={\"param_a\": \"l\"})"
   ]
  },
  {
   "cell_type": "code",
   "execution_count": null,
   "metadata": {},
   "outputs": [],
   "source": [
    "node_a.get_signature()"
   ]
  },
  {
   "cell_type": "code",
   "execution_count": null,
   "metadata": {},
   "outputs": [],
   "source": [
    "node_a.invoke(input={\"param_a\": \"l\"})"
   ]
  },
  {
   "cell_type": "code",
   "execution_count": null,
   "metadata": {},
   "outputs": [],
   "source": []
  }
 ],
 "metadata": {
  "kernelspec": {
   "display_name": "graphai",
   "language": "python",
   "name": "python3"
  },
  "language_info": {
   "codemirror_mode": {
    "name": "ipython",
    "version": 3
   },
   "file_extension": ".py",
   "mimetype": "text/x-python",
   "name": "python",
   "nbconvert_exporter": "python",
   "pygments_lexer": "ipython3",
   "version": "3.11.9"
  }
 },
 "nbformat": 4,
 "nbformat_minor": 2
}
