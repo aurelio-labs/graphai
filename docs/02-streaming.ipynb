{
 "cells": [
  {
   "cell_type": "code",
   "execution_count": 1,
   "metadata": {},
   "outputs": [],
   "source": [
    "import os\n",
    "\n",
    "os.environ[\"OPENAI_API_KEY\"] = \"sk-proj-...\""
   ]
  },
  {
   "cell_type": "code",
   "execution_count": 2,
   "metadata": {},
   "outputs": [],
   "source": [
    "from openai import OpenAI\n",
    "\n",
    "client = OpenAI()"
   ]
  },
  {
   "cell_type": "code",
   "execution_count": 3,
   "metadata": {},
   "outputs": [],
   "source": [
    "from pydantic import BaseModel, Field\n",
    "\n",
    "\n",
    "class Search(BaseModel):\n",
    "    query: str = Field(description=\"Search query for internet information\")\n",
    "\n",
    "class Memory(BaseModel):\n",
    "    query: str = Field(description=\"Self-directed query to search information from your long term memory\")\n",
    "\n",
    "class FinalAnswer(BaseModel):\n",
    "    answer: str = Field(description=\"Final answer to the user query, must be in markdown format\")\n",
    "    sources: str = Field(description=\"Sources used to answer the user query, must be in markdown format\")"
   ]
  },
  {
   "cell_type": "code",
   "execution_count": 4,
   "metadata": {},
   "outputs": [
    {
     "name": "stderr",
     "output_type": "stream",
     "text": [
      "/Users/jamesbriggs/opt/anaconda3/envs/graphai/lib/python3.11/site-packages/pydantic/_internal/_config.py:341: UserWarning: Valid config keys have changed in V2:\n",
      "* 'allow_population_by_field_name' has been renamed to 'populate_by_name'\n",
      "* 'smart_union' has been removed\n",
      "  warnings.warn(message, UserWarning)\n",
      "/Users/jamesbriggs/opt/anaconda3/envs/graphai/lib/python3.11/site-packages/tqdm/auto.py:21: TqdmWarning: IProgress not found. Please update jupyter and ipywidgets. See https://ipywidgets.readthedocs.io/en/stable/user_install.html\n",
      "  from .autonotebook import tqdm as notebook_tqdm\n"
     ]
    }
   ],
   "source": [
    "import json\n",
    "import openai\n",
    "from graphai import router, node\n",
    "\n",
    "\n",
    "@node(start=True)\n",
    "def node_start(input: dict):\n",
    "    \"\"\"Descriptive string for the node.\"\"\"\n",
    "    print(\">>> node_start\")\n",
    "    return {\"input\": input}\n",
    "\n",
    "\n",
    "@router(stream=True)\n",
    "def node_router(input: dict, callback):\n",
    "    print(\">>> node_router\")\n",
    "    query = input[\"query\"]\n",
    "    messages = [\n",
    "        {\n",
    "            \"role\": \"system\",\n",
    "            \"content\": \"\"\"You are a helpful assistant. Select the best route to answer the user query. ONLY choose one function.\"\"\",\n",
    "        },\n",
    "        {\"role\": \"user\", \"content\": query},\n",
    "    ]\n",
    "    # we stream directly from the client\n",
    "    stream = client.chat.completions.create(\n",
    "        messages=messages,\n",
    "        model=\"gpt-4o-mini\",\n",
    "        stream=True,\n",
    "        tools=[\n",
    "            openai.pydantic_function_tool(Search),\n",
    "            openai.pydantic_function_tool(Memory),\n",
    "        ],\n",
    "        tool_choice=\"required\",\n",
    "    )\n",
    "\n",
    "    first_chunk = True  # first chunk contains the tool name\n",
    "    args_str = \"\"\n",
    "    for chunk in stream:\n",
    "        choice = chunk.choices[0]\n",
    "        if first_chunk:\n",
    "            toolname = choice.delta.tool_calls[0].function.name.lower()\n",
    "            first_chunk = False\n",
    "            callback(f\"<graphai:toolname:{toolname}>\")\n",
    "        elif choice.finish_reason == \"tool_calls\":\n",
    "            # this means we finished the tool call\n",
    "            pass\n",
    "        else:\n",
    "            chunk = choice.delta.tool_calls[0].function.arguments\n",
    "            callback(chunk)\n",
    "            args_str += chunk\n",
    "    args = json.loads(args_str)\n",
    "    return {\n",
    "        \"choice\": toolname,\n",
    "        \"input\": {**input, **args},\n",
    "    }\n",
    "\n",
    "\n",
    "@node(stream=True)\n",
    "def memory(input: dict, callback):\n",
    "    print(\">>> memory\")\n",
    "    #query = input[\"query\"]\n",
    "    # dummy function for testing to simulate memory search\n",
    "    out = \"The user is in Bali right now.\"\n",
    "    callback(out)\n",
    "    return {\"input\": {\"text\": out, **input}}\n",
    "\n",
    "\n",
    "@node(stream=True)\n",
    "def search(input: dict, callback):\n",
    "    print(\">>> search\")\n",
    "    #query = input[\"query\"]\n",
    "    # another dummy function for testing to simulate search\n",
    "    out = \"The most famous photo spot in Bali is the Uluwatu Temple.\"\n",
    "    callback(out)\n",
    "    return {\n",
    "        \"input\": {\n",
    "            \"text\": out,\n",
    "            **input,\n",
    "        }\n",
    "    }\n",
    "\n",
    "\n",
    "@node(stream=True)\n",
    "def llm_node(input: dict, callback):\n",
    "    print(\">>> llm_node\")\n",
    "    chat_history = [\n",
    "        {\"role\": message[\"role\"], \"content\": message[\"content\"]}\n",
    "        for message in input[\"chat_history\"]\n",
    "    ]\n",
    "    # construct all messages\n",
    "    messages = [\n",
    "        {\"role\": \"system\", \"content\": \"\"\"You are a helpful assistant.\"\"\"},\n",
    "        *chat_history,\n",
    "        {\"role\": \"user\", \"content\": input[\"query\"]},\n",
    "        {\"role\": \"user\", \"content\": (\n",
    "            f\"Response to the following query from the user: {input['query']}\\n\"\n",
    "            \"Here is additional context. You can use it to answer the user query. \"\n",
    "            f\"But do not directly reference it: {input.get('text', '')}.\"\n",
    "        )},\n",
    "    ]\n",
    "    # we stream directly from the client\n",
    "    stream = client.chat.completions.create(\n",
    "        messages=messages,\n",
    "        model=\"gpt-4o-mini\",\n",
    "        stream=True,\n",
    "        tools=[openai.pydantic_function_tool(FinalAnswer)],\n",
    "        tool_choice=\"required\",\n",
    "    )\n",
    "\n",
    "    first_chunk = True  # first chunk contains the tool name\n",
    "    args_str = \"\"\n",
    "    for chunk in stream:\n",
    "        try:\n",
    "            choice = chunk.choices[0]\n",
    "            if first_chunk:\n",
    "                toolname = choice.delta.tool_calls[0].function.name.lower()\n",
    "                first_chunk = False\n",
    "                callback(f\"<graphai:toolname:{toolname}>\")\n",
    "            elif choice.finish_reason == \"tool_calls\":\n",
    "                # this means we finished the tool call\n",
    "                pass\n",
    "            else:\n",
    "                chunk = choice.delta.tool_calls[0].function.arguments\n",
    "                callback(chunk)\n",
    "                args_str += chunk\n",
    "        except:\n",
    "            pass\n",
    "    args = json.loads(args_str)\n",
    "    return {\n",
    "        \"choice\": toolname,\n",
    "        \"input\": {**input, **args},\n",
    "    }\n",
    "\n",
    "\n",
    "@node(end=True)\n",
    "def node_end(input: dict, callback = None):\n",
    "    \"\"\"Descriptive string for the node.\"\"\"\n",
    "    print(\">>> node_end\")\n",
    "    callback.close()\n",
    "    return {\"output\": input[\"output\"]}"
   ]
  },
  {
   "cell_type": "code",
   "execution_count": 5,
   "metadata": {},
   "outputs": [],
   "source": [
    "from graphai import Graph\n",
    "\n",
    "graph = Graph()"
   ]
  },
  {
   "cell_type": "code",
   "execution_count": 6,
   "metadata": {},
   "outputs": [],
   "source": [
    "for node_fn in [node_start, memory, search, llm_node, node_end]:\n",
    "    graph.add_node(node_fn)\n",
    "\n",
    "# add the router\n",
    "graph.add_router(\n",
    "    source=node_start,\n",
    "    router=node_router,\n",
    "    destinations=[memory, search]\n",
    ")\n",
    "\n",
    "# build the certain edges\n",
    "graph.add_edge(source=node_start, destination=node_router)\n",
    "graph.add_edge(source=memory, destination=llm_node)\n",
    "graph.add_edge(source=search, destination=llm_node)\n",
    "graph.add_edge(source=llm_node, destination=node_end)\n",
    "\n",
    "#graph.visualize()"
   ]
  },
  {
   "cell_type": "code",
   "execution_count": 7,
   "metadata": {},
   "outputs": [
    {
     "name": "stdout",
     "output_type": "stream",
     "text": [
      "Graph compiled successfully.\n"
     ]
    }
   ],
   "source": [
    "graph.compile()"
   ]
  },
  {
   "cell_type": "code",
   "execution_count": 8,
   "metadata": {},
   "outputs": [],
   "source": [
    "chat_history = []"
   ]
  },
  {
   "cell_type": "markdown",
   "metadata": {},
   "source": [
    "Now we can get a response:"
   ]
  },
  {
   "cell_type": "code",
   "execution_count": 12,
   "metadata": {},
   "outputs": [
    {
     "name": "stdout",
     "output_type": "stream",
     "text": [
      ">>> node_start\n",
      ">>> node_router\n",
      ">>> memory\n",
      ">>> llm_node\n"
     ]
    },
    {
     "data": {
      "text/plain": [
       "{'choice': 'finalanswer',\n",
       " 'input': {'text': 'The user is in Bali right now.',\n",
       "  'query': 'user location',\n",
       "  'chat_history': [{'role': 'user', 'content': 'do you remember where I am?'},\n",
       "   {'role': 'user', 'content': 'do you remember where I am?'}],\n",
       "  'answer': \"It seems you're currently in Bali!\",\n",
       "  'sources': ''}}"
      ]
     },
     "execution_count": 12,
     "metadata": {},
     "output_type": "execute_result"
    }
   ],
   "source": [
    "query = \"do you remember where I am?\"\n",
    "\n",
    "chat_history.append({\"role\": \"user\", \"content\": query})\n",
    "response = await graph.async_execute(\n",
    "    input={\"input\": {\"query\": query, \"chat_history\": chat_history}}\n",
    ")\n",
    "response"
   ]
  },
  {
   "cell_type": "markdown",
   "metadata": {},
   "source": [
    "We can see the order that our graph nodes were called, and the final JSON output. However, none of this was streamed — for streaming we need to use the `callback` object that can be generated from our graph:"
   ]
  },
  {
   "cell_type": "code",
   "execution_count": 14,
   "metadata": {},
   "outputs": [
    {
     "name": "stdout",
     "output_type": "stream",
     "text": [
      ">>> node_start\n",
      ">>> node_router\n",
      ">>> memory\n",
      ">>> llm_node\n",
      "<graphai:start:node_router>\n",
      "<graphai:toolname:memory>\n",
      "{\"\n",
      "query\n",
      "\":\"\n",
      "long\n",
      " story\n",
      "\"}\n",
      "<graphai:end:node_router>\n",
      "<graphai:start:memory>\n",
      "The user is in Bali right now.\n",
      "<graphai:end:memory>\n",
      "<graphai:start:llm_node>\n",
      "<graphai:toolname:finalanswer>\n",
      "{\"\n",
      "answer\n",
      "\":\"\n",
      "It\n",
      " sounds\n",
      " like\n",
      " you've\n",
      " got\n",
      " something\n",
      " interesting\n",
      " going\n",
      " on\n",
      "!\n",
      " If\n",
      " you'd\n",
      " like\n",
      " to\n",
      " share\n",
      " more\n",
      " about\n",
      " your\n",
      " long\n",
      " story\n",
      ",\n",
      " I'm\n",
      " here\n",
      " to\n",
      " listen\n",
      ".\",\"\n",
      "sources\n",
      "\":\n",
      "\"\"\n",
      "}\n",
      "<graphai:end:llm_node>\n",
      "<graphai:END>\n"
     ]
    }
   ],
   "source": [
    "import asyncio\n",
    "\n",
    "callback = graph.get_callback()\n",
    "\n",
    "query = \"tell me a long story\"\n",
    "response = asyncio.create_task(graph.async_execute(\n",
    "    input={\"input\": {\"query\": query, \"chat_history\": chat_history}}\n",
    "))\n",
    "\n",
    "async for token in callback.aiter():\n",
    "    print(token)"
   ]
  },
  {
   "cell_type": "code",
   "execution_count": null,
   "metadata": {},
   "outputs": [],
   "source": []
  }
 ],
 "metadata": {
  "kernelspec": {
   "display_name": "graphai",
   "language": "python",
   "name": "python3"
  },
  "language_info": {
   "codemirror_mode": {
    "name": "ipython",
    "version": 3
   },
   "file_extension": ".py",
   "mimetype": "text/x-python",
   "name": "python",
   "nbconvert_exporter": "python",
   "pygments_lexer": "ipython3",
   "version": "3.11.9"
  }
 },
 "nbformat": 4,
 "nbformat_minor": 2
}
