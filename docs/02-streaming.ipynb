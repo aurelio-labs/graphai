{
 "cells": [
  {
   "cell_type": "code",
   "execution_count": null,
   "metadata": {},
   "outputs": [],
   "source": [
    "!pip install -qU \\\n",
    "    openai \\\n",
    "    graphai-lib"
   ]
  },
  {
   "cell_type": "code",
   "execution_count": 1,
   "metadata": {},
   "outputs": [],
   "source": [
    "import os\n",
    "from getpass import getpass\n",
    "\n",
    "os.environ[\"OPENAI_API_KEY\"] = os.getenv(\"OPENAI_API_KEY\") or getpass(\n",
    "    \"Enter OpenAI API Key: \"\n",
    ")"
   ]
  },
  {
   "cell_type": "code",
   "execution_count": 2,
   "metadata": {},
   "outputs": [],
   "source": [
    "from openai import AsyncClient\n",
    "\n",
    "client = AsyncClient()"
   ]
  },
  {
   "cell_type": "code",
   "execution_count": 3,
   "metadata": {},
   "outputs": [],
   "source": [
    "from pydantic import BaseModel, Field\n",
    "\n",
    "\n",
    "class Search(BaseModel):\n",
    "    query: str = Field(description=\"Search query for internet information\")\n",
    "\n",
    "\n",
    "class Memory(BaseModel):\n",
    "    query: str = Field(\n",
    "        description=\"Self-directed query to search information from your long term memory\"\n",
    "    )\n",
    "\n",
    "\n",
    "class FinalAnswer(BaseModel):\n",
    "    answer: str = Field(\n",
    "        description=\"Final answer to the user query, must be in markdown format\"\n",
    "    )\n",
    "    sources: str = Field(\n",
    "        description=\"Sources used to answer the user query, must be in markdown format\"\n",
    "    )"
   ]
  },
  {
   "cell_type": "code",
   "execution_count": 4,
   "metadata": {},
   "outputs": [],
   "source": [
    "import json\n",
    "import openai\n",
    "from graphai import router, node\n",
    "\n",
    "\n",
    "@node(start=True)\n",
    "async def node_start(input: dict):\n",
    "    \"\"\"Descriptive string for the node.\"\"\"\n",
    "    print(\">>> node_start\")\n",
    "    return {\"input\": input}\n",
    "\n",
    "\n",
    "@router(stream=True)\n",
    "async def node_router(input: dict, callback):\n",
    "    print(\">>> node_router\")\n",
    "    query = input[\"query\"]\n",
    "    messages = [\n",
    "        {\n",
    "            \"role\": \"system\",\n",
    "            \"content\": \"\"\"You are a helpful assistant. Select the best route to answer the user query. ONLY choose one function.\"\"\",\n",
    "        },\n",
    "        {\"role\": \"user\", \"content\": query},\n",
    "    ]\n",
    "    # we stream directly from the client\n",
    "    stream = await client.chat.completions.create(\n",
    "        messages=messages,\n",
    "        model=\"gpt-4o-mini\",\n",
    "        stream=True,\n",
    "        tools=[\n",
    "            openai.pydantic_function_tool(Search),\n",
    "            openai.pydantic_function_tool(Memory),\n",
    "        ],\n",
    "        tool_choice=\"required\",\n",
    "    )\n",
    "\n",
    "    first_chunk = True  # first chunk contains the tool name\n",
    "    args_str = \"\"\n",
    "    async for chunk in stream:\n",
    "        choice = chunk.choices[0]\n",
    "        if first_chunk:\n",
    "            toolname = choice.delta.tool_calls[0].function.name.lower()\n",
    "            first_chunk = False\n",
    "            callback(f\"<graphai:toolname:{toolname}>\")\n",
    "        elif choice.finish_reason == \"tool_calls\":\n",
    "            # this means we finished the tool call\n",
    "            pass\n",
    "        else:\n",
    "            chunk = choice.delta.tool_calls[0].function.arguments\n",
    "            callback(chunk)\n",
    "            args_str += chunk\n",
    "    args = json.loads(args_str)\n",
    "    return {\n",
    "        \"choice\": toolname,\n",
    "        \"input\": {**input, **args},\n",
    "    }\n",
    "\n",
    "\n",
    "@node(stream=True)\n",
    "async def memory(input: dict, callback):\n",
    "    print(\">>> memory\")\n",
    "    # query = input[\"query\"]\n",
    "    # dummy function for testing to simulate memory search\n",
    "    out = \"The user is in Bali right now.\"\n",
    "    callback(out)\n",
    "    return {\"input\": {\"text\": out, **input}}\n",
    "\n",
    "\n",
    "@node(stream=True)\n",
    "async def search(input: dict, callback):\n",
    "    print(\">>> search\")\n",
    "    # query = input[\"query\"]\n",
    "    # another dummy function for testing to simulate search\n",
    "    out = \"The most famous photo spot in Bali is the Uluwatu Temple.\"\n",
    "    callback(out)\n",
    "    return {\n",
    "        \"input\": {\n",
    "            \"text\": out,\n",
    "            **input,\n",
    "        }\n",
    "    }\n",
    "\n",
    "\n",
    "@node(stream=True)\n",
    "async def llm_node(input: dict, callback):\n",
    "    print(\">>> llm_node\")\n",
    "    chat_history = [\n",
    "        {\"role\": message[\"role\"], \"content\": message[\"content\"]}\n",
    "        for message in input[\"chat_history\"]\n",
    "    ]\n",
    "    # construct all messages\n",
    "    messages = [\n",
    "        {\"role\": \"system\", \"content\": \"\"\"You are a helpful assistant.\"\"\"},\n",
    "        *chat_history,\n",
    "        {\"role\": \"user\", \"content\": input[\"query\"]},\n",
    "        {\n",
    "            \"role\": \"user\",\n",
    "            \"content\": (\n",
    "                f\"Response to the following query from the user: {input['query']}\\n\"\n",
    "                \"Here is additional context. You can use it to answer the user query. \"\n",
    "                f\"But do not directly reference it: {input.get('text', '')}.\"\n",
    "            ),\n",
    "        },\n",
    "    ]\n",
    "    # we stream directly from the client\n",
    "    stream = await client.chat.completions.create(\n",
    "        messages=messages,\n",
    "        model=\"gpt-4.1-mini\",\n",
    "        stream=True,\n",
    "        tools=[openai.pydantic_function_tool(FinalAnswer)],\n",
    "        tool_choice=\"required\",\n",
    "    )\n",
    "\n",
    "    first_chunk = True  # first chunk contains the tool name\n",
    "    args_str = \"\"\n",
    "    async for chunk in stream:\n",
    "        try:\n",
    "            choice = chunk.choices[0]\n",
    "            if first_chunk:\n",
    "                toolname = choice.delta.tool_calls[0].function.name.lower()\n",
    "                first_chunk = False\n",
    "                callback(f\"<graphai:toolname:{toolname}>\")\n",
    "            elif choice.finish_reason == \"tool_calls\":\n",
    "                # this means we finished the tool call\n",
    "                pass\n",
    "            else:\n",
    "                chunk = choice.delta.tool_calls[0].function.arguments\n",
    "                callback(chunk)\n",
    "                args_str += chunk\n",
    "        except Exception as _:\n",
    "            pass\n",
    "    args = json.loads(args_str)\n",
    "    return {\n",
    "        \"choice\": toolname,\n",
    "        \"input\": {**input, **args},\n",
    "    }\n",
    "\n",
    "\n",
    "@node(end=True)\n",
    "async def node_end(input: dict):\n",
    "    \"\"\"Descriptive string for the node.\"\"\"\n",
    "    print(\">>> node_end\")\n",
    "    print(input)\n",
    "    return {\"output\": input[\"text\"]}"
   ]
  },
  {
   "cell_type": "code",
   "execution_count": 5,
   "metadata": {},
   "outputs": [],
   "source": [
    "from graphai import Graph\n",
    "\n",
    "graph = Graph()"
   ]
  },
  {
   "cell_type": "code",
   "execution_count": 6,
   "metadata": {},
   "outputs": [
    {
     "name": "stderr",
     "output_type": "stream",
     "text": [
      "\u001b[32m2025-05-28 09:09:15 INFO graphai.utils The graph is acyclic. Visualization will use a topological layout.\u001b[0m\n"
     ]
    },
    {
     "data": {
      "image/png": "[encoded data removed]",
      "text/plain": [
       "<Figure size 800x600 with 1 Axes>"
      ]
     },
     "metadata": {},
     "output_type": "display_data"
    }
   ],
   "source": [
    "for node_fn in [node_start, memory, search, llm_node, node_router, node_end]:\n",
    "    graph.add_node(node_fn)\n",
    "\n",
    "# add the router\n",
    "graph.add_router(\n",
    "    sources=[node_start], router=node_router, destinations=[memory, search]\n",
    ")\n",
    "\n",
    "# build the certain edges\n",
    "graph.add_edge(source=memory, destination=llm_node)\n",
    "graph.add_edge(source=search, destination=llm_node)\n",
    "graph.add_edge(source=llm_node, destination=node_end)\n",
    "\n",
    "graph.visualize()"
   ]
  },
  {
   "cell_type": "code",
   "execution_count": 7,
   "metadata": {},
   "outputs": [],
   "source": [
    "graph.compile()"
   ]
  },
  {
   "cell_type": "code",
   "execution_count": 8,
   "metadata": {},
   "outputs": [],
   "source": [
    "chat_history = []"
   ]
  },
  {
   "cell_type": "code",
   "execution_count": 9,
   "metadata": {},
   "outputs": [
    {
     "name": "stdout",
     "output_type": "stream",
     "text": [
      ">>> node_start\n",
      ">>> node_router\n",
      ">>> memory\n",
      ">>> llm_node\n",
      ">>> node_end\n",
      "{'text': 'The user is in Bali right now.', 'query': 'user location', 'chat_history': [{'role': 'user', 'content': 'do you remember where I am?'}], 'answer': 'You are currently in Bali.', 'sources': 'Based on the context provided.'}\n"
     ]
    },
    {
     "data": {
      "text/plain": [
       "{'input': {'text': 'The user is in Bali right now.',\n",
       "  'query': 'user location',\n",
       "  'chat_history': [{'role': 'user', 'content': 'do you remember where I am?'}],\n",
       "  'answer': 'You are currently in Bali.',\n",
       "  'sources': 'Based on the context provided.'},\n",
       " 'choice': 'finalanswer',\n",
       " 'output': 'The user is in Bali right now.'}"
      ]
     },
     "execution_count": 9,
     "metadata": {},
     "output_type": "execute_result"
    }
   ],
   "source": [
    "query = \"do you remember where I am?\"\n",
    "chat_history.append({\"role\": \"user\", \"content\": query})\n",
    "\n",
    "# get callback\n",
    "cb = graph.get_callback()\n",
    "\n",
    "response = await graph.execute(\n",
    "    input={\"input\": {\"query\": query, \"chat_history\": chat_history}},\n",
    "    callback=cb,\n",
    ")\n",
    "response"
   ]
  },
  {
   "cell_type": "code",
   "execution_count": 10,
   "metadata": {},
   "outputs": [
    {
     "name": "stdout",
     "output_type": "stream",
     "text": [
      ">>> node_start\n",
      ">>> node_router\n",
      "<graphai:node_router:start:>\n",
      "<graphai:node_router:>\n",
      "<graphai:toolname:memory>\n",
      "{\"\n",
      "query\n",
      "\":\"\n",
      "long\n",
      " story\n",
      "\"}\n",
      ">>> memory\n",
      ">>> llm_node\n",
      "<graphai:node_router:end:>\n",
      "<graphai:memory:start:>\n",
      "<graphai:memory:>\n",
      "The user is in Bali right now.\n",
      "<graphai:memory:end:>\n",
      "<graphai:llm_node:start:>\n",
      "<graphai:llm_node:>\n",
      "<graphai:toolname:finalanswer>\n",
      "{\"\n",
      "answer\n",
      "\":\"\n",
      "You're\n",
      " in\n",
      " Bali\n",
      " right\n",
      " now\n",
      "!\n",
      " If\n",
      " you'd\n",
      " like\n",
      " to\n",
      " share\n",
      " your\n",
      " story\n",
      " or\n",
      " need\n",
      " any\n",
      " information\n",
      " or\n",
      " assistance\n",
      " related\n",
      " to\n",
      " Bali\n",
      ",\n",
      " feel\n",
      " free\n",
      " to\n",
      " ask\n",
      "!\n",
      "\",\"\n",
      "sources\n",
      "\":\"\n",
      "From\n",
      " our\n",
      " conversation\n",
      " context\n",
      ".\"\n",
      "}\n",
      ">>> node_end\n",
      "{'text': 'The user is in Bali right now.', 'query': 'long story', 'chat_history': [{'role': 'user', 'content': 'do you remember where I am?'}], 'answer': \"You're in Bali right now! If you'd like to share your story or need any information or assistance related to Bali, feel free to ask!\", 'sources': 'From our conversation context.'}\n",
      "<graphai:llm_node:end:>\n",
      "<graphai:END:>\n"
     ]
    }
   ],
   "source": [
    "import asyncio\n",
    "\n",
    "cb = graph.get_callback()\n",
    "\n",
    "query = \"tell me a long story\"\n",
    "response = asyncio.create_task(\n",
    "    graph.execute(\n",
    "        input={\"input\": {\"query\": query, \"chat_history\": chat_history}},\n",
    "        callback=cb,\n",
    "    )\n",
    ")\n",
    "\n",
    "async for token in cb.aiter():\n",
    "    print(token)"
   ]
  },
  {
   "cell_type": "markdown",
   "metadata": {},
   "source": [
    "---"
   ]
  }
 ],
 "metadata": {
  "kernelspec": {
   "display_name": ".venv",
   "language": "python",
   "name": "python3"
  },
  "language_info": {
   "codemirror_mode": {
    "name": "ipython",
    "version": 3
   },
   "file_extension": ".py",
   "mimetype": "text/x-python",
   "name": "python",
   "nbconvert_exporter": "python",
   "pygments_lexer": "ipython3",
   "version": "3.12.7"
  }
 },
 "nbformat": 4,
 "nbformat_minor": 2
}
